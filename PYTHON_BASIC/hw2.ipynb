{
  "nbformat": 4,
  "nbformat_minor": 0,
  "metadata": {
    "colab": {
      "provenance": [],
      "collapsed_sections": [
        "so18TuKv9Raq"
      ]
    },
    "kernelspec": {
      "name": "python3",
      "display_name": "Python 3"
    },
    "language_info": {
      "name": "python"
    }
  },
  "cells": [
    {
      "cell_type": "markdown",
      "source": [
        "# 1. Количество символов в строке"
      ],
      "metadata": {
        "id": "so18TuKv9Raq"
      }
    },
    {
      "cell_type": "code",
      "source": [
        "print(len(input()))"
      ],
      "metadata": {
        "colab": {
          "base_uri": "https://localhost:8080/"
        },
        "id": "ybNnZXAs9G_y",
        "outputId": "647c6b98-4af7-43a4-bd6f-ebcf3f5f6c58"
      },
      "execution_count": 1,
      "outputs": [
        {
          "output_type": "stream",
          "name": "stdout",
          "text": [
            "Hello World!\n",
            "12\n"
          ]
        }
      ]
    },
    {
      "cell_type": "markdown",
      "source": [
        "# 2. Строка в обратном порядке"
      ],
      "metadata": {
        "id": "95gwsUUc9V06"
      }
    },
    {
      "cell_type": "code",
      "source": [
        "s = input()\n",
        "reversed_s = s[::-1]\n",
        "print(reversed_s)"
      ],
      "metadata": {
        "colab": {
          "base_uri": "https://localhost:8080/"
        },
        "id": "oB1V13CW9ZlG",
        "outputId": "031b4b55-8243-401a-a8e3-d57a90dd3374"
      },
      "execution_count": 3,
      "outputs": [
        {
          "output_type": "stream",
          "name": "stdout",
          "text": [
            "Hello World!\n",
            "!dlroW olleH\n"
          ]
        }
      ]
    },
    {
      "cell_type": "markdown",
      "source": [
        "# 3. Какой логин?"
      ],
      "metadata": {
        "id": "Ri7_4LdA9f8A"
      }
    },
    {
      "cell_type": "code",
      "source": [
        "email = input()\n",
        "login = email.split(\"@\")[0]\n",
        "print(login)\n"
      ],
      "metadata": {
        "colab": {
          "base_uri": "https://localhost:8080/"
        },
        "id": "daLN3_HJ9iz5",
        "outputId": "d285fe53-d23b-4a8b-9662-397781664d01"
      },
      "execution_count": 4,
      "outputs": [
        {
          "output_type": "stream",
          "name": "stdout",
          "text": [
            "ivan@lenta.ru\n",
            "ivan\n"
          ]
        }
      ]
    },
    {
      "cell_type": "markdown",
      "source": [
        "# 4. Подстрока в двойных кавычках"
      ],
      "metadata": {
        "id": "gMnnH5zr9pxK"
      }
    },
    {
      "cell_type": "code",
      "source": [
        "string = input()\n",
        "result = []\n",
        "\n",
        "start = 0\n",
        "while True:\n",
        "    start_quote = string.find('\"', start)\n",
        "    if start_quote == -1:\n",
        "        break\n",
        "    end_quote = string.find('\"', start_quote + 1)\n",
        "    if end_quote == -1:\n",
        "        break\n",
        "    result.append(string[start_quote+1:end_quote])\n",
        "    start = end_quote + 1\n",
        "\n",
        "print(\"\".join(result))\n"
      ],
      "metadata": {
        "colab": {
          "base_uri": "https://localhost:8080/"
        },
        "id": "UzZsEs6S9u94",
        "outputId": "08ba53a2-affa-4d67-c3fe-296bcce25438"
      },
      "execution_count": 5,
      "outputs": [
        {
          "output_type": "stream",
          "name": "stdout",
          "text": [
            "Hel\"lo Wor\"ld!\n",
            "lo Wor\n"
          ]
        }
      ]
    },
    {
      "cell_type": "markdown",
      "source": [
        "# 5. Поменялись!"
      ],
      "metadata": {
        "id": "SGQ3qPvR90n9"
      }
    },
    {
      "cell_type": "code",
      "source": [
        "string = input()\n",
        "a, b = string.split()\n",
        "result = b + \" \" + a\n",
        "print(result)\n"
      ],
      "metadata": {
        "colab": {
          "base_uri": "https://localhost:8080/"
        },
        "id": "O2BhTH2l92tP",
        "outputId": "8bc8a8ff-2b34-406d-9a9f-2d462ef100c5"
      },
      "execution_count": 6,
      "outputs": [
        {
          "output_type": "stream",
          "name": "stdout",
          "text": [
            "3254543 793423410\n",
            "793423410 3254543\n"
          ]
        }
      ]
    },
    {
      "cell_type": "markdown",
      "source": [
        "# 6. Как? Как угодно!"
      ],
      "metadata": {
        "id": "U4CNi1N696fz"
      }
    },
    {
      "cell_type": "code",
      "source": [
        "phone_number = input()\n",
        "result=\"\"\n",
        "for i in phone_number:\n",
        "\tif i.isdigit() == True or i == \"+\":\n",
        "\t\tresult = result + i\n",
        "\t\t\n",
        "print(result)\n"
      ],
      "metadata": {
        "colab": {
          "base_uri": "https://localhost:8080/"
        },
        "id": "9outJiaJ98Mt",
        "outputId": "363cf720-e8aa-4280-f1f0-8e46bb9ea05a"
      },
      "execution_count": 7,
      "outputs": [
        {
          "output_type": "stream",
          "name": "stdout",
          "text": [
            "+7 (812) 134-12-324\n",
            "+781213412324\n"
          ]
        }
      ]
    },
    {
      "cell_type": "markdown",
      "source": [
        "# 7. Щйхс Чёибса"
      ],
      "metadata": {
        "id": "FjbF_a5m-GKk"
      }
    },
    {
      "cell_type": "code",
      "source": [
        "message = input()\n",
        "result = \"\"\n",
        "\n",
        "for char in message:\n",
        "    if char.isalpha():\n",
        "        if char.isupper():\n",
        "            result += chr((ord(char) + 1 - 65) % 26 + 65)\n",
        "        else:\n",
        "            result += chr((ord(char) + 1 - 97) % 26 + 97)\n",
        "    else:\n",
        "        result += char\n",
        "\n",
        "print(result)\n"
      ],
      "metadata": {
        "colab": {
          "base_uri": "https://localhost:8080/"
        },
        "id": "5k1tTN_J-Hgb",
        "outputId": "5e8f6fef-b109-4692-f314-236b8e2d7c4d"
      },
      "execution_count": 8,
      "outputs": [
        {
          "output_type": "stream",
          "name": "stdout",
          "text": [
            "Veni, vidi, vici\n",
            "Wfoj, wjej, wjdj\n"
          ]
        }
      ]
    }
  ]
}