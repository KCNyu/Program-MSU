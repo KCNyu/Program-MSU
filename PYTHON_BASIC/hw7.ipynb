{
  "cells": [
    {
      "cell_type": "markdown",
      "metadata": {
        "id": "so18TuKv9Raq"
      },
      "source": [
        "# 1. Underflow error"
      ]
    },
    {
      "cell_type": "code",
      "execution_count": null,
      "metadata": {
        "id": "DVoUkjYoRQVt"
      },
      "outputs": [],
      "source": [
        "27"
      ]
    },
    {
      "cell_type": "markdown",
      "metadata": {
        "id": "95gwsUUc9V06"
      },
      "source": [
        "# 2. Управление пекарней"
      ]
    },
    {
      "cell_type": "code",
      "execution_count": null,
      "metadata": {
        "id": "qQRu2zBgRYVa"
      },
      "outputs": [],
      "source": [
        "27"
      ]
    },
    {
      "cell_type": "markdown",
      "metadata": {
        "id": "Ri7_4LdA9f8A"
      },
      "source": [
        "# 3. Битва при Азенкуре 2.0"
      ]
    },
    {
      "cell_type": "code",
      "execution_count": null,
      "metadata": {
        "id": "zNvvwna9Rgyb"
      },
      "outputs": [],
      "source": [
        "def bin_search(lst):\n",
        "    left = 0\n",
        "    right = len(lst) - 1\n",
        "\n",
        "    while left <= right:\n",
        "        mid = (left + right) // 2\n",
        "        current_date = int(lst[mid])\n",
        "\n",
        "        if current_date == 1415:\n",
        "            return mid\n",
        "        elif current_date < 1415:\n",
        "            left = mid + 1\n",
        "        else:\n",
        "            right = mid - 1\n",
        "\n",
        "    # Документ 1415 года гарантированно есть в списке, так что эта строка никогда не выполнится\n",
        "    return -1"
      ]
    },
    {
      "cell_type": "markdown",
      "metadata": {
        "id": "gMnnH5zr9pxK"
      },
      "source": [
        "# 4. Менеджмент"
      ]
    },
    {
      "cell_type": "code",
      "execution_count": null,
      "metadata": {
        "id": "XWXtsv6tRmGm"
      },
      "outputs": [],
      "source": [
        "import numpy as np\n",
        "\n",
        "# Считывание данных из файла\n",
        "with open('input.txt', 'r') as file:\n",
        "    first_day_profit, last_day_profit, num_days = map(int, file.readlines())\n",
        "\n",
        "# Создание массива с ожидаемой прибылью каждый день\n",
        "planned_profit = np.linspace(first_day_profit, last_day_profit, num_days)\n",
        "\n",
        "# Применение корректировки на продуктивность\n",
        "planned_profit[::7] /= 3\n",
        "planned_profit[4::7] *= 2\n",
        "\n",
        "# Сохранение результатов в файл\n",
        "with open('output.txt', 'w') as file:\n",
        "    for profit in planned_profit:\n",
        "        file.write(f\"{profit:.2f}\\n\")"
      ]
    }
  ],
  "metadata": {
    "colab": {
      "provenance": []
    },
    "kernelspec": {
      "display_name": "Python 3",
      "name": "python3"
    },
    "language_info": {
      "name": "python"
    }
  },
  "nbformat": 4,
  "nbformat_minor": 0
}
