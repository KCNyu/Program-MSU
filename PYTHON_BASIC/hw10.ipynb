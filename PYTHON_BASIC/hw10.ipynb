{
  "nbformat": 4,
  "nbformat_minor": 0,
  "metadata": {
    "colab": {
      "provenance": []
    },
    "kernelspec": {
      "name": "python3",
      "display_name": "Python 3"
    },
    "language_info": {
      "name": "python"
    }
  },
  "cells": [
    {
      "cell_type": "markdown",
      "source": [
        "# 1. Предобработка данных"
      ],
      "metadata": {
        "id": "so18TuKv9Raq"
      }
    },
    {
      "cell_type": "code",
      "source": [
        "import pandas as pd\n",
        "\n",
        "# Чтение данных из файла input.csv\n",
        "data = pd.read_csv(\"input.csv\")\n",
        "\n",
        "# Удаление строк с пустыми значениями в столбце \"name\"\n",
        "data = data.dropna(subset=['name'])\n",
        "\n",
        "# Вычисление среднего значения столбца \"score\" после удаления лишних строк\n",
        "mean_score = data['score'].mean()\n",
        "\n",
        "# Замена пустых значений в столбце \"score\" на среднее значение\n",
        "data['score'].fillna(mean_score, inplace=True)\n",
        "\n",
        "# Запись обработанных данных в файл output.csv\n",
        "data.to_csv(\"output.csv\", index=True)\n"
      ],
      "metadata": {
        "id": "DVoUkjYoRQVt"
      },
      "execution_count": null,
      "outputs": []
    },
    {
      "cell_type": "markdown",
      "source": [
        "# 2. Температура"
      ],
      "metadata": {
        "id": "95gwsUUc9V06"
      }
    },
    {
      "cell_type": "code",
      "source": [
        "import pandas as pd\n",
        "\n",
        "# Чтение данных из файла input.csv\n",
        "data = pd.read_csv(\"input.csv\")\n",
        "\n",
        "# Функция для перевода температуры из градусов Цельсия в градусы Фаренгейта\n",
        "def celsius_to_fahrenheit(temp_c):\n",
        "    temp_f = (9 / 5) * temp_c + 32\n",
        "    return round(temp_f)\n",
        "\n",
        "# Добавление нового столбца с температурой по Фаренгейту\n",
        "data['temperature_f'] = data['temperature_c'].apply(celsius_to_fahrenheit)\n",
        "\n",
        "# Запись обработанных данных в файл output.csv\n",
        "data.to_csv(\"output.csv\", index=True)\n"
      ],
      "metadata": {
        "id": "qQRu2zBgRYVa"
      },
      "execution_count": null,
      "outputs": []
    },
    {
      "cell_type": "markdown",
      "source": [
        "# 3. Метод loc"
      ],
      "metadata": {
        "id": "Ri7_4LdA9f8A"
      }
    },
    {
      "cell_type": "code",
      "source": [
        "login1, login4"
      ],
      "metadata": {
        "id": "zNvvwna9Rgyb"
      },
      "execution_count": null,
      "outputs": []
    },
    {
      "cell_type": "markdown",
      "source": [
        "# 4. Водители склада"
      ],
      "metadata": {
        "id": "gMnnH5zr9pxK"
      }
    },
    {
      "cell_type": "code",
      "source": [
        "import pandas as pd\n",
        "\n",
        "# Чтение данных из файла input.csv\n",
        "data = pd.read_csv(\"input.csv\")\n",
        "\n",
        "# Замена значений столбца 'Тип операции' на 1 для 'Привоз' и -1 для 'Вывоз'\n",
        "data['Тип операции'] = data['Тип операции'].map({'Привоз': 1, 'Вывоз': -1})\n",
        "\n",
        "# Вычисление суммарного груза с учетом типа операции\n",
        "data['Объем груза'] = data['Объем груза'] * data['Тип операции']\n",
        "\n",
        "# Группировка данных по водителям и суммирование объема груза\n",
        "result = data.groupby('Фамилия водителя')['Объем груза'].sum().reset_index()\n",
        "\n",
        "# Сортировка результата по убыванию объема груза, а при равенстве - по возрастанию фамилий водителей\n",
        "result = result.sort_values(by=['Объем груза', 'Фамилия водителя'], ascending=[False, True])\n",
        "\n",
        "# Запись обработанных данных в файл output.csv\n",
        "result.to_csv(\"output.csv\", index=False)\n"
      ],
      "metadata": {
        "id": "XWXtsv6tRmGm"
      },
      "execution_count": null,
      "outputs": []
    },
    {
      "cell_type": "markdown",
      "source": [
        "# 5. Лёгкий подъём"
      ],
      "metadata": {
        "id": "zLUWSUkMoF4N"
      }
    },
    {
      "cell_type": "code",
      "source": [
        "import pandas as pd\n",
        "\n",
        "# Чтение данных из файла input.csv\n",
        "data = pd.read_csv(\"input.csv\")\n",
        "\n",
        "# Создание столбца 'Маршрут' путем объединения столбцов 'Город отправления' и 'Город прибытия'\n",
        "data['Маршрут'] = data['Город отправления'] + ' - ' + data['Город прибытия']\n",
        "\n",
        "# Группировка данных по 'Номер борта' и подсчет уникальных маршрутов с использованием nunique()\n",
        "result = data.groupby('Номер борта')['Маршрут'].nunique().reset_index()\n",
        "result.columns = ['Номер борта', 'Уникальных маршрутов']\n",
        "\n",
        "# Сортировка результата по убыванию уникальных маршрутов и возрастанию номеров бортов\n",
        "result = result.sort_values(by=['Уникальных маршрутов', 'Номер борта'], ascending=[False, True])\n",
        "\n",
        "# Запись обработанных данных в файл output.csv\n",
        "result.to_csv(\"output.csv\", index=False)\n"
      ],
      "metadata": {
        "id": "V0pbHe1NoGVW"
      },
      "execution_count": null,
      "outputs": []
    },
    {
      "cell_type": "markdown",
      "source": [
        "# 6. Метод merge"
      ],
      "metadata": {
        "id": "NUz8KQf0oPQz"
      }
    },
    {
      "cell_type": "code",
      "source": [
        "inner"
      ],
      "metadata": {
        "id": "lBFahE5noO3s"
      },
      "execution_count": null,
      "outputs": []
    }
  ]
}