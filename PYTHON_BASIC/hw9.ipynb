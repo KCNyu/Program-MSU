{
  "nbformat": 4,
  "nbformat_minor": 0,
  "metadata": {
    "colab": {
      "provenance": []
    },
    "kernelspec": {
      "name": "python3",
      "display_name": "Python 3"
    },
    "language_info": {
      "name": "python"
    }
  },
  "cells": [
    {
      "cell_type": "markdown",
      "source": [
        "# 1. Железная логика"
      ],
      "metadata": {
        "id": "so18TuKv9Raq"
      }
    },
    {
      "cell_type": "code",
      "source": [
        "import itertools\n",
        "\n",
        "def logical_expression(x1, x2, x3):\n",
        "    not_x1 = not x1\n",
        "    not_x2 = not x2\n",
        "    not_x3 = not x3\n",
        "\n",
        "    clause1 = not_x1 and x2 and not_x3\n",
        "    clause2 = not_x1 and x2 and x3\n",
        "    clause3 = x1 and not_x2 and not_x3\n",
        "\n",
        "    return clause1 or clause2 or clause3\n",
        "\n",
        "values = [False, True]\n",
        "\n",
        "for x1, x2, x3 in itertools.product(values, repeat=3):\n",
        "    if logical_expression(x1, x2, x3):\n",
        "        print(x1, x2, x3)\n"
      ],
      "metadata": {
        "id": "DVoUkjYoRQVt"
      },
      "execution_count": null,
      "outputs": []
    },
    {
      "cell_type": "markdown",
      "source": [
        "# 2. Ошибка выжившего"
      ],
      "metadata": {
        "id": "95gwsUUc9V06"
      }
    },
    {
      "cell_type": "code",
      "source": [
        "import pandas as pd\n",
        "import numpy as np\n",
        "\n",
        "# Чтение данных из CSV-файла\n",
        "data = pd.read_csv(\"input.csv\", header=None)\n",
        "\n",
        "# Расчет среднего количества попаданий по каждой области\n",
        "mean_hits = data.mean(axis=0)\n",
        "\n",
        "# Нахождение области с минимальным средним значением\n",
        "area_to_reinforce = np.argmin(mean_hits) + 1\n",
        "\n",
        "# Вывод номера области\n",
        "print(area_to_reinforce)\n"
      ],
      "metadata": {
        "id": "qQRu2zBgRYVa"
      },
      "execution_count": null,
      "outputs": []
    },
    {
      "cell_type": "markdown",
      "source": [
        "# 3. Электрик Станислав и интернет-казино"
      ],
      "metadata": {
        "id": "Ri7_4LdA9f8A"
      }
    },
    {
      "cell_type": "code",
      "source": [
        "import pandas as pd\n",
        "\n",
        "# Считывание данных из файла\n",
        "data = pd.read_csv(\"input.csv\")\n",
        "\n",
        "# Подсчет среднего выигрыша для каждого автомата\n",
        "average_wins = data.mean(axis=0)\n",
        "\n",
        "# Определение самого прибыльного автомата\n",
        "most_profitable_machine = average_wins.idxmax()\n",
        "\n",
        "# Вывод названия самого прибыльного автомата\n",
        "print(most_profitable_machine)\n"
      ],
      "metadata": {
        "id": "zNvvwna9Rgyb"
      },
      "execution_count": null,
      "outputs": []
    },
    {
      "cell_type": "markdown",
      "source": [
        "# 4. Инвестор Генадий и новый Мерседес"
      ],
      "metadata": {
        "id": "gMnnH5zr9pxK"
      }
    },
    {
      "cell_type": "code",
      "source": [
        "import pandas as pd\n",
        "\n",
        "# Считывание данных из файла\n",
        "data = pd.read_csv(\"input.csv\")\n",
        "\n",
        "# Подсчет суммы дивидендов для каждой акции\n",
        "sum_dividends = data.sum(axis=0)\n",
        "\n",
        "# Подсчет общей суммы дивидендов\n",
        "total_dividends = sum_dividends.sum()\n",
        "\n",
        "# Определение наиболее прибыльной акции\n",
        "most_profitable_stock = sum_dividends.idxmax()\n",
        "\n",
        "# Проверка, хватит ли Генадию денег на Мерседес и вывод результатов\n",
        "if total_dividends >= 8000000:\n",
        "    print(\"1\", most_profitable_stock)\n",
        "else:\n",
        "    print(\"0\", most_profitable_stock)\n"
      ],
      "metadata": {
        "id": "XWXtsv6tRmGm"
      },
      "execution_count": null,
      "outputs": []
    },
    {
      "cell_type": "markdown",
      "source": [
        "# 5. Фильтрация данных"
      ],
      "metadata": {
        "id": "zLUWSUkMoF4N"
      }
    },
    {
      "cell_type": "code",
      "source": [
        "data[(data.weekdays == 'Thu') & (data.prices > 2000000)] \n",
        "\n",
        "data.query('weekdays == \"Thu\" and prices > 2000000') "
      ],
      "metadata": {
        "id": "V0pbHe1NoGVW"
      },
      "execution_count": null,
      "outputs": []
    },
    {
      "cell_type": "markdown",
      "source": [
        "# 6. Неравенство треугольника"
      ],
      "metadata": {
        "id": "NUz8KQf0oPQz"
      }
    },
    {
      "cell_type": "code",
      "source": [
        "import pandas as pd\n",
        "\n",
        "# Считывание данных из файла\n",
        "data = pd.read_csv(\"input.csv\")\n",
        "\n",
        "# Функция для проверки, являются ли стороны a, b, c сторонами треугольника\n",
        "def is_triangle(a, b, c):\n",
        "    return a + b > c and a + c > b and b + c > a\n",
        "\n",
        "# Проверка каждой строки и подсчет количества треугольников\n",
        "triangle_count = 0\n",
        "for index, row in data.iterrows():\n",
        "    if is_triangle(row['a'], row['b'], row['c']):\n",
        "        triangle_count += 1\n",
        "\n",
        "print(triangle_count)\n"
      ],
      "metadata": {
        "id": "lBFahE5noO3s"
      },
      "execution_count": null,
      "outputs": []
    }
  ]
}