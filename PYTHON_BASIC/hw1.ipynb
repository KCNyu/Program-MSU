{
  "cells": [
    {
      "attachments": {},
      "cell_type": "markdown",
      "metadata": {
        "id": "KcDp1cWWMOKU"
      },
      "source": [
        "# 1. Быстрая черепашка\n",
        "_**answer: speed(13)**_"
      ]
    },
    {
      "cell_type": "markdown",
      "metadata": {
        "id": "_vRUYJF-KzIw"
      },
      "source": [
        "Какая из ниже приведенных команд отвечает за самую быструю прорисовку следа от черепашки:\n"
      ]
    },
    {
      "attachments": {},
      "cell_type": "markdown",
      "metadata": {
        "id": "Y4bvCSB1MJ_D"
      },
      "source": [
        "# 2. Вопрос о фигуре\n",
        "_**answer: 2**_"
      ]
    },
    {
      "cell_type": "code",
      "execution_count": 86,
      "metadata": {
        "colab": {
          "base_uri": "https://localhost:8080/",
          "height": 555
        },
        "id": "N2B8npA72rQo",
        "outputId": "cdea2ac1-da18-454c-a718-9f5c000103df"
      },
      "outputs": [
        {
          "name": "stdout",
          "output_type": "stream",
          "text": [
            "Looking in indexes: https://pypi.org/simple, https://us-python.pkg.dev/colab-wheels/public/simple/\n",
            "Requirement already satisfied: ColabTurtle in /usr/local/lib/python3.8/dist-packages (2.1.0)\n"
          ]
        },
        {
          "data": {
            "text/html": [
              "\n",
              "      <svg width=\"800\" height=\"500\">\n",
              "        <rect width=\"100%\" height=\"100%\" fill=\"black\"/>\n",
              "        <line x1=\"400\" y1=\"250\" x2=\"400.0\" y2=\"130.0\" stroke-linecap=\"round\" style=\"stroke:white;stroke-width:4\"/><line x1=\"400.0\" y1=\"130.0\" x2=\"470.534\" y2=\"227.082\" stroke-linecap=\"round\" style=\"stroke:white;stroke-width:4\"/><line x1=\"470.534\" y1=\"227.082\" x2=\"356.407\" y2=\"190.0\" stroke-linecap=\"round\" style=\"stroke:white;stroke-width:4\"/><line x1=\"356.407\" y1=\"190.0\" x2=\"470.534\" y2=\"152.918\" stroke-linecap=\"round\" style=\"stroke:white;stroke-width:4\"/><line x1=\"470.534\" y1=\"152.918\" x2=\"400.0\" y2=\"250.0\" stroke-linecap=\"round\" style=\"stroke:white;stroke-width:4\"/><line x1=\"400.0\" y1=\"250.0\" x2=\"400.0\" y2=\"130.0\" stroke-linecap=\"round\" style=\"stroke:white;stroke-width:4\"/><line x1=\"400.0\" y1=\"130.0\" x2=\"470.534\" y2=\"227.082\" stroke-linecap=\"round\" style=\"stroke:white;stroke-width:4\"/>\n",
              "        <g visibility=visible transform=\"rotate(288.0,470.534,227.082) translate(452.534, 209.082)\">\n",
              "<path style=\" stroke:none;fill-rule:evenodd;fill:white;fill-opacity:1;\" d=\"M 18.214844 0.632812 C 16.109375 1.800781 15.011719 4.074219 15.074219 7.132812 L 15.085938 7.652344 L 14.785156 7.496094 C 13.476562 6.824219 11.957031 6.671875 10.40625 7.066406 C 8.46875 7.550781 6.515625 9.15625 4.394531 11.992188 C 3.0625 13.777344 2.679688 14.636719 3.042969 15.027344 L 3.15625 15.152344 L 3.519531 15.152344 C 4.238281 15.152344 4.828125 14.886719 8.1875 13.039062 C 9.386719 12.378906 10.371094 11.839844 10.378906 11.839844 C 10.386719 11.839844 10.355469 11.929688 10.304688 12.035156 C 9.832031 13.09375 9.257812 14.820312 8.96875 16.078125 C 7.914062 20.652344 8.617188 24.53125 11.070312 27.660156 C 11.351562 28.015625 11.363281 27.914062 10.972656 28.382812 C 8.925781 30.84375 7.945312 33.28125 8.238281 35.1875 C 8.289062 35.527344 8.28125 35.523438 8.917969 35.523438 C 10.941406 35.523438 13.074219 34.207031 15.136719 31.6875 C 15.359375 31.417969 15.328125 31.425781 15.5625 31.574219 C 16.292969 32.042969 18.023438 32.964844 18.175781 32.964844 C 18.335938 32.964844 19.941406 32.210938 20.828125 31.71875 C 20.996094 31.625 21.136719 31.554688 21.136719 31.558594 C 21.203125 31.664062 21.898438 32.414062 22.222656 32.730469 C 23.835938 34.300781 25.5625 35.132812 27.582031 35.300781 C 27.90625 35.328125 27.9375 35.308594 28.007812 34.984375 C 28.382812 33.242188 27.625 30.925781 25.863281 28.425781 L 25.542969 27.96875 L 25.699219 27.785156 C 28.945312 23.960938 29.132812 18.699219 26.257812 11.96875 L 26.207031 11.84375 L 27.945312 12.703125 C 31.53125 14.476562 32.316406 14.800781 33.03125 14.800781 C 33.976562 14.800781 33.78125 13.9375 32.472656 12.292969 C 28.519531 7.355469 25.394531 5.925781 21.921875 7.472656 L 21.558594 7.636719 L 21.578125 7.542969 C 21.699219 6.992188 21.761719 5.742188 21.699219 5.164062 C 21.496094 3.296875 20.664062 1.964844 19.003906 0.855469 C 18.480469 0.503906 18.457031 0.5 18.214844 0.632812\"/>\n",
              "</g>\n",
              "      </svg>\n",
              "    "
            ],
            "text/plain": [
              "<IPython.core.display.HTML object>"
            ]
          },
          "metadata": {},
          "output_type": "display_data"
        }
      ],
      "source": [
        "!pip3 install ColabTurtle\n",
        "from ColabTurtle.Turtle import *\n",
        "initializeTurtle()\n",
        "\n",
        "speed(10)\n",
        "\n",
        "for step in 1, 2, 3, 4, 5, ..., 15:\n",
        "    forward(120)\n",
        "    right(720 / 5)"
      ]
    },
    {
      "attachments": {},
      "cell_type": "markdown",
      "metadata": {
        "id": "9QvYTkG9NGXd"
      },
      "source": [
        "# 3. Послание\n",
        "_**answer: мфк**_"
      ]
    },
    {
      "cell_type": "code",
      "execution_count": 83,
      "metadata": {
        "colab": {
          "base_uri": "https://localhost:8080/",
          "height": 521
        },
        "id": "N_UPhxi73F9B",
        "outputId": "fdf1e8c2-b96b-4897-bbac-33a6614d250b"
      },
      "outputs": [
        {
          "data": {
            "text/html": [
              "\n",
              "      <svg width=\"800\" height=\"500\">\n",
              "        <rect width=\"100%\" height=\"100%\" fill=\"black\"/>\n",
              "        <line x1=\"400.0\" y1=\"350.0\" x2=\"400.0\" y2=\"250.0\" stroke-linecap=\"round\" style=\"stroke:white;stroke-width:4\"/><line x1=\"400.0\" y1=\"250.0\" x2=\"430.0\" y2=\"301.962\" stroke-linecap=\"round\" style=\"stroke:white;stroke-width:4\"/><line x1=\"430.0\" y1=\"301.962\" x2=\"460.0\" y2=\"250.0\" stroke-linecap=\"round\" style=\"stroke:white;stroke-width:4\"/><line x1=\"460.0\" y1=\"250.0\" x2=\"460.0\" y2=\"350.0\" stroke-linecap=\"round\" style=\"stroke:white;stroke-width:4\"/><line x1=\"520.0\" y1=\"350.0\" x2=\"520.0\" y2=\"250.0\" stroke-linecap=\"round\" style=\"stroke:white;stroke-width:4\"/><line x1=\"520.0\" y1=\"250.0\" x2=\"545.0\" y2=\"250.0\" stroke-linecap=\"round\" style=\"stroke:white;stroke-width:4\"/><line x1=\"545.0\" y1=\"250.0\" x2=\"562.678\" y2=\"267.678\" stroke-linecap=\"round\" style=\"stroke:white;stroke-width:4\"/><line x1=\"562.678\" y1=\"267.678\" x2=\"562.678\" y2=\"292.678\" stroke-linecap=\"round\" style=\"stroke:white;stroke-width:4\"/><line x1=\"562.678\" y1=\"292.678\" x2=\"545.0\" y2=\"310.356\" stroke-linecap=\"round\" style=\"stroke:white;stroke-width:4\"/><line x1=\"545.0\" y1=\"310.356\" x2=\"520.0\" y2=\"310.356\" stroke-linecap=\"round\" style=\"stroke:white;stroke-width:4\"/><line x1=\"520.0\" y1=\"310.356\" x2=\"495.0\" y2=\"310.356\" stroke-linecap=\"round\" style=\"stroke:white;stroke-width:4\"/><line x1=\"495.0\" y1=\"310.356\" x2=\"477.322\" y2=\"292.678\" stroke-linecap=\"round\" style=\"stroke:white;stroke-width:4\"/><line x1=\"477.322\" y1=\"292.678\" x2=\"477.322\" y2=\"267.678\" stroke-linecap=\"round\" style=\"stroke:white;stroke-width:4\"/><line x1=\"477.322\" y1=\"267.678\" x2=\"495.0\" y2=\"250.0\" stroke-linecap=\"round\" style=\"stroke:white;stroke-width:4\"/><line x1=\"495.0\" y1=\"250.0\" x2=\"520.0\" y2=\"250.0\" stroke-linecap=\"round\" style=\"stroke:white;stroke-width:4\"/><line x1=\"580.0\" y1=\"350.0\" x2=\"580.0\" y2=\"310.0\" stroke-linecap=\"round\" style=\"stroke:white;stroke-width:4\"/><line x1=\"580.0\" y1=\"310.0\" x2=\"614.5\" y2=\"250.244\" stroke-linecap=\"round\" style=\"stroke:white;stroke-width:4\"/><line x1=\"614.5\" y1=\"250.244\" x2=\"585.0\" y2=\"301.339\" stroke-linecap=\"round\" style=\"stroke:white;stroke-width:4\"/><line x1=\"585.0\" y1=\"301.339\" x2=\"613.0\" y2=\"349.836\" stroke-linecap=\"round\" style=\"stroke:white;stroke-width:4\"/><line x1=\"613.0\" y1=\"349.836\" x2=\"585.0\" y2=\"301.339\" stroke-linecap=\"round\" style=\"stroke:white;stroke-width:4\"/><line x1=\"585.0\" y1=\"301.339\" x2=\"580.0\" y2=\"309.999\" stroke-linecap=\"round\" style=\"stroke:white;stroke-width:4\"/><line x1=\"580.0\" y1=\"309.999\" x2=\"580.0\" y2=\"249.999\" stroke-linecap=\"round\" style=\"stroke:white;stroke-width:4\"/>\n",
              "        <g visibility=visible transform=\"rotate(360.0,580.0,249.999) translate(562.0, 231.999)\">\n",
              "<path style=\" stroke:none;fill-rule:evenodd;fill:white;fill-opacity:1;\" d=\"M 18.214844 0.632812 C 16.109375 1.800781 15.011719 4.074219 15.074219 7.132812 L 15.085938 7.652344 L 14.785156 7.496094 C 13.476562 6.824219 11.957031 6.671875 10.40625 7.066406 C 8.46875 7.550781 6.515625 9.15625 4.394531 11.992188 C 3.0625 13.777344 2.679688 14.636719 3.042969 15.027344 L 3.15625 15.152344 L 3.519531 15.152344 C 4.238281 15.152344 4.828125 14.886719 8.1875 13.039062 C 9.386719 12.378906 10.371094 11.839844 10.378906 11.839844 C 10.386719 11.839844 10.355469 11.929688 10.304688 12.035156 C 9.832031 13.09375 9.257812 14.820312 8.96875 16.078125 C 7.914062 20.652344 8.617188 24.53125 11.070312 27.660156 C 11.351562 28.015625 11.363281 27.914062 10.972656 28.382812 C 8.925781 30.84375 7.945312 33.28125 8.238281 35.1875 C 8.289062 35.527344 8.28125 35.523438 8.917969 35.523438 C 10.941406 35.523438 13.074219 34.207031 15.136719 31.6875 C 15.359375 31.417969 15.328125 31.425781 15.5625 31.574219 C 16.292969 32.042969 18.023438 32.964844 18.175781 32.964844 C 18.335938 32.964844 19.941406 32.210938 20.828125 31.71875 C 20.996094 31.625 21.136719 31.554688 21.136719 31.558594 C 21.203125 31.664062 21.898438 32.414062 22.222656 32.730469 C 23.835938 34.300781 25.5625 35.132812 27.582031 35.300781 C 27.90625 35.328125 27.9375 35.308594 28.007812 34.984375 C 28.382812 33.242188 27.625 30.925781 25.863281 28.425781 L 25.542969 27.96875 L 25.699219 27.785156 C 28.945312 23.960938 29.132812 18.699219 26.257812 11.96875 L 26.207031 11.84375 L 27.945312 12.703125 C 31.53125 14.476562 32.316406 14.800781 33.03125 14.800781 C 33.976562 14.800781 33.78125 13.9375 32.472656 12.292969 C 28.519531 7.355469 25.394531 5.925781 21.921875 7.472656 L 21.558594 7.636719 L 21.578125 7.542969 C 21.699219 6.992188 21.761719 5.742188 21.699219 5.164062 C 21.496094 3.296875 20.664062 1.964844 19.003906 0.855469 C 18.480469 0.503906 18.457031 0.5 18.214844 0.632812\"/>\n",
              "</g>\n",
              "      </svg>\n",
              "    "
            ],
            "text/plain": [
              "<IPython.core.display.HTML object>"
            ]
          },
          "metadata": {},
          "output_type": "display_data"
        }
      ],
      "source": [
        "from ColabTurtle.Turtle import *\n",
        "initializeTurtle()\n",
        "\n",
        "speed(10)\n",
        "\n",
        "penup()\n",
        "backward(100)\n",
        "pendown()\n",
        "forward(100)\n",
        "right(150)\n",
        "forward(60)\n",
        "left(120)\n",
        "forward(60)\n",
        "left(30)\n",
        "backward(100)\n",
        "right(90)\n",
        "penup()\n",
        "forward(60)\n",
        "pendown()\n",
        "left(360/4)\n",
        "forward(100)\n",
        "right(360/4)\n",
        "for i in 1, 2, 3, 4:\n",
        "    forward(25)\n",
        "    right(360/8)\n",
        "forward(25)\n",
        "for i in 1, 2, 3, 4, 5:\n",
        "    forward(25)\n",
        "    right(360/8)\n",
        "right(360/8)\n",
        "penup()\n",
        "forward(100)\n",
        "left(360/4)\n",
        "forward(60)\n",
        "pendown()\n",
        "left(360/4)\n",
        "forward(40)\n",
        "right(30)\n",
        "forward(69)\n",
        "right(180)\n",
        "forward(59)\n",
        "left(60)\n",
        "forward(56)\n",
        "right(180)\n",
        "forward(56)\n",
        "left(120)\n",
        "forward(10)\n",
        "right(150)\n",
        "forward(60)"
      ]
    },
    {
      "attachments": {},
      "cell_type": "markdown",
      "metadata": {
        "id": "RZN0lBa2K8C7"
      },
      "source": [
        "# 4. Построй дом!\n",
        "_**answer: 14,right(60)**_"
      ]
    },
    {
      "cell_type": "code",
      "execution_count": 76,
      "metadata": {
        "colab": {
          "base_uri": "https://localhost:8080/",
          "height": 521
        },
        "id": "nA2n5Sbx7Gy_",
        "outputId": "d0950f16-73b0-414a-a361-ebfd92a4c0f7"
      },
      "outputs": [
        {
          "data": {
            "text/html": [
              "\n",
              "      <svg width=\"800\" height=\"500\">\n",
              "        <rect width=\"100%\" height=\"100%\" fill=\"black\"/>\n",
              "        <line x1=\"400\" y1=\"250\" x2=\"500.0\" y2=\"250.0\" stroke-linecap=\"round\" style=\"stroke:white;stroke-width:2\"/><line x1=\"500.0\" y1=\"250.0\" x2=\"500.0\" y2=\"350.0\" stroke-linecap=\"round\" style=\"stroke:white;stroke-width:2\"/><line x1=\"500.0\" y1=\"350.0\" x2=\"400.0\" y2=\"350.0\" stroke-linecap=\"round\" style=\"stroke:white;stroke-width:2\"/><line x1=\"400.0\" y1=\"350.0\" x2=\"400.0\" y2=\"250.0\" stroke-linecap=\"round\" style=\"stroke:white;stroke-width:2\"/><line x1=\"400.0\" y1=\"250.0\" x2=\"449.363\" y2=\"221.5\" stroke-linecap=\"round\" style=\"stroke:white;stroke-width:2\"/><line x1=\"449.363\" y1=\"221.5\" x2=\"466.684\" y2=\"231.5\" stroke-linecap=\"round\" style=\"stroke:white;stroke-width:2\"/><line x1=\"466.684\" y1=\"231.5\" x2=\"466.684\" y2=\"211.5\" stroke-linecap=\"round\" style=\"stroke:white;stroke-width:2\"/><line x1=\"466.684\" y1=\"211.5\" x2=\"486.684\" y2=\"211.5\" stroke-linecap=\"round\" style=\"stroke:white;stroke-width:2\"/><line x1=\"486.684\" y1=\"211.5\" x2=\"486.684\" y2=\"231.5\" stroke-linecap=\"round\" style=\"stroke:white;stroke-width:2\"/><line x1=\"486.684\" y1=\"231.5\" x2=\"486.684\" y2=\"242.5\" stroke-linecap=\"round\" style=\"stroke:white;stroke-width:2\"/><line x1=\"486.684\" y1=\"242.5\" x2=\"498.808\" y2=\"249.5\" stroke-linecap=\"round\" style=\"stroke:white;stroke-width:2\"/>\n",
              "        <g visibility=visible transform=\"rotate(120,542.109,274.5) translate(524.109, 256.5)\">\n",
              "<path style=\" stroke:none;fill-rule:evenodd;fill:white;fill-opacity:1;\" d=\"M 18.214844 0.632812 C 16.109375 1.800781 15.011719 4.074219 15.074219 7.132812 L 15.085938 7.652344 L 14.785156 7.496094 C 13.476562 6.824219 11.957031 6.671875 10.40625 7.066406 C 8.46875 7.550781 6.515625 9.15625 4.394531 11.992188 C 3.0625 13.777344 2.679688 14.636719 3.042969 15.027344 L 3.15625 15.152344 L 3.519531 15.152344 C 4.238281 15.152344 4.828125 14.886719 8.1875 13.039062 C 9.386719 12.378906 10.371094 11.839844 10.378906 11.839844 C 10.386719 11.839844 10.355469 11.929688 10.304688 12.035156 C 9.832031 13.09375 9.257812 14.820312 8.96875 16.078125 C 7.914062 20.652344 8.617188 24.53125 11.070312 27.660156 C 11.351562 28.015625 11.363281 27.914062 10.972656 28.382812 C 8.925781 30.84375 7.945312 33.28125 8.238281 35.1875 C 8.289062 35.527344 8.28125 35.523438 8.917969 35.523438 C 10.941406 35.523438 13.074219 34.207031 15.136719 31.6875 C 15.359375 31.417969 15.328125 31.425781 15.5625 31.574219 C 16.292969 32.042969 18.023438 32.964844 18.175781 32.964844 C 18.335938 32.964844 19.941406 32.210938 20.828125 31.71875 C 20.996094 31.625 21.136719 31.554688 21.136719 31.558594 C 21.203125 31.664062 21.898438 32.414062 22.222656 32.730469 C 23.835938 34.300781 25.5625 35.132812 27.582031 35.300781 C 27.90625 35.328125 27.9375 35.308594 28.007812 34.984375 C 28.382812 33.242188 27.625 30.925781 25.863281 28.425781 L 25.542969 27.96875 L 25.699219 27.785156 C 28.945312 23.960938 29.132812 18.699219 26.257812 11.96875 L 26.207031 11.84375 L 27.945312 12.703125 C 31.53125 14.476562 32.316406 14.800781 33.03125 14.800781 C 33.976562 14.800781 33.78125 13.9375 32.472656 12.292969 C 28.519531 7.355469 25.394531 5.925781 21.921875 7.472656 L 21.558594 7.636719 L 21.578125 7.542969 C 21.699219 6.992188 21.761719 5.742188 21.699219 5.164062 C 21.496094 3.296875 20.664062 1.964844 19.003906 0.855469 C 18.480469 0.503906 18.457031 0.5 18.214844 0.632812\"/>\n",
              "</g>\n",
              "      </svg>\n",
              "    "
            ],
            "text/plain": [
              "<IPython.core.display.HTML object>"
            ]
          },
          "metadata": {},
          "output_type": "display_data"
        }
      ],
      "source": [
        "from ColabTurtle.Turtle import *\n",
        "initializeTurtle() #1\n",
        "speed(10) #2\n",
        "pensize(2) #3\n",
        "\n",
        "right(90) #4\n",
        "forward(100) #5\n",
        "right(90) #6\n",
        "forward(100) #7\n",
        "right(90) #8\n",
        "forward(100) #9\n",
        "right(90) #10\n",
        "forward(100) #11\n",
        "\n",
        "right(60) #12\n",
        "forward(57) #13\n",
        "right(60) #14\n",
        "forward(20) #15\n",
        "\n",
        "left(120) #16\n",
        "forward(20) #17\n",
        "right(90) #18\n",
        "forward(20) #19\n",
        "right(90) #20\n",
        "forward(20) #21\n",
        "forward(11) #22\n",
        "left(60) #23\n",
        "forward(14) #24\n",
        "\n",
        "penup() #25\n",
        "forward(50) #26"
      ]
    },
    {
      "cell_type": "markdown",
      "metadata": {
        "id": "eRXhcrncLK3b"
      },
      "source": [
        "# 5. Звездочный квадрат\n",
        "\n"
      ]
    },
    {
      "cell_type": "code",
      "execution_count": 84,
      "metadata": {
        "colab": {
          "base_uri": "https://localhost:8080/"
        },
        "id": "PyucsHRMBaHu",
        "outputId": "5c8552ba-03bb-45af-d877-8a9b32995081"
      },
      "outputs": [
        {
          "name": "stdout",
          "output_type": "stream",
          "text": [
            "5\n",
            "*****\n",
            "*****\n",
            "*****\n",
            "*****\n",
            "*****\n"
          ]
        }
      ],
      "source": [
        "def draw(n: int):\n",
        "    if (n <= 0):\n",
        "        return\n",
        "    else:\n",
        "        for _ in range(0,n):\n",
        "            for _ in range(0, n):\n",
        "                print(\"*\", end=\"\")\n",
        "            print()\n",
        "n = input()\n",
        "draw(int(n))"
      ]
    }
  ],
  "metadata": {
    "colab": {
      "collapsed_sections": [
        "KcDp1cWWMOKU",
        "Y4bvCSB1MJ_D",
        "9QvYTkG9NGXd",
        "RZN0lBa2K8C7",
        "eRXhcrncLK3b"
      ],
      "provenance": []
    },
    "kernelspec": {
      "display_name": "Python 3",
      "name": "python3"
    },
    "language_info": {
      "name": "python"
    }
  },
  "nbformat": 4,
  "nbformat_minor": 0
}
